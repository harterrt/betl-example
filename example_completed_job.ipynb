{
 "cells": [
  {
   "cell_type": "markdown",
   "metadata": {},
   "source": [
    "# Configuration"
   ]
  },
  {
   "cell_type": "code",
   "execution_count": 1,
   "metadata": {
    "collapsed": true
   },
   "outputs": [],
   "source": [
    "job_https_url = 'https://github.com/harterrt/betl-example'"
   ]
  },
  {
   "cell_type": "markdown",
   "metadata": {},
   "source": [
    "## Load BETL"
   ]
  },
  {
   "cell_type": "code",
   "execution_count": 2,
   "metadata": {
    "collapsed": false
   },
   "outputs": [
    {
     "name": "stdout",
     "output_type": "stream",
     "text": [
      "Cloning into 'betl'...\n",
      "remote: Counting objects: 33, done.\u001b[K\n",
      "remote: Compressing objects: 100% (24/24), done.\u001b[K\n",
      "remote: Total 33 (delta 9), reused 25 (delta 4), pack-reused 0\u001b[K\n",
      "Unpacking objects: 100% (33/33), done.\n",
      "Checking connectivity... done.\n",
      "running bdist_egg\n",
      "running egg_info\n",
      "creating betl.egg-info\n",
      "writing betl.egg-info/PKG-INFO\n",
      "writing top-level names to betl.egg-info/top_level.txt\n",
      "writing dependency_links to betl.egg-info/dependency_links.txt\n",
      "writing manifest file 'betl.egg-info/SOURCES.txt'\n",
      "reading manifest file 'betl.egg-info/SOURCES.txt'\n",
      "writing manifest file 'betl.egg-info/SOURCES.txt'\n",
      "installing library code to build/bdist.linux-x86_64/egg\n",
      "running install_lib\n",
      "running build_py\n",
      "creating build\n",
      "creating build/lib\n",
      "creating build/lib/betl\n",
      "copying betl/__init__.py -> build/lib/betl\n",
      "copying betl/transform.py -> build/lib/betl\n",
      "creating build/bdist.linux-x86_64\n",
      "creating build/bdist.linux-x86_64/egg\n",
      "creating build/bdist.linux-x86_64/egg/betl\n",
      "copying build/lib/betl/__init__.py -> build/bdist.linux-x86_64/egg/betl\n",
      "copying build/lib/betl/transform.py -> build/bdist.linux-x86_64/egg/betl\n",
      "byte-compiling build/bdist.linux-x86_64/egg/betl/__init__.py to __init__.pyc\n",
      "byte-compiling build/bdist.linux-x86_64/egg/betl/transform.py to transform.pyc\n",
      "creating build/bdist.linux-x86_64/egg/EGG-INFO\n",
      "copying betl.egg-info/PKG-INFO -> build/bdist.linux-x86_64/egg/EGG-INFO\n",
      "copying betl.egg-info/SOURCES.txt -> build/bdist.linux-x86_64/egg/EGG-INFO\n",
      "copying betl.egg-info/dependency_links.txt -> build/bdist.linux-x86_64/egg/EGG-INFO\n",
      "copying betl.egg-info/top_level.txt -> build/bdist.linux-x86_64/egg/EGG-INFO\n",
      "zip_safe flag not set; analyzing archive contents...\n",
      "creating dist\n",
      "creating 'dist/betl-0.1-py2.7.egg' and adding 'build/bdist.linux-x86_64/egg' to it\n",
      "removing 'build/bdist.linux-x86_64/egg' (and everything under it)\n"
     ]
    }
   ],
   "source": [
    "!git clone https://github.com/harterrt/betl && cd betl && python setup.py bdist_egg"
   ]
  },
  {
   "cell_type": "code",
   "execution_count": 3,
   "metadata": {
    "collapsed": false
   },
   "outputs": [],
   "source": [
    "import os\n",
    "distpath = 'betl/dist'\n",
    "sc.addPyFile(os.path.join(distpath, os.listdir(distpath)[0]))"
   ]
  },
  {
   "cell_type": "markdown",
   "metadata": {},
   "source": [
    "## Load Job"
   ]
  },
  {
   "cell_type": "code",
   "execution_count": 4,
   "metadata": {
    "collapsed": false,
    "scrolled": true
   },
   "outputs": [
    {
     "name": "stdout",
     "output_type": "stream",
     "text": [
      "Cloning into 'tmp'...\n",
      "remote: Counting objects: 23, done.\u001b[K\n",
      "remote: Compressing objects: 100% (18/18), done.\u001b[K\n",
      "remote: Total 23 (delta 3), reused 22 (delta 2), pack-reused 0\u001b[K\n",
      "Unpacking objects: 100% (23/23), done.\n",
      "Checking connectivity... done.\n"
     ]
    }
   ],
   "source": [
    "tmp_dir = 'tmp'\n",
    "!git clone $job_https_url $tmp_dir"
   ]
  },
  {
   "cell_type": "code",
   "execution_count": 5,
   "metadata": {
    "collapsed": false
   },
   "outputs": [
    {
     "name": "stdout",
     "output_type": "stream",
     "text": [
      "Unable to parse whitelist (/mnt/anaconda2/lib/python2.7/site-packages/moztelemetry/histogram-whitelists.json). Assuming all histograms are acceptable.\n"
     ]
    }
   ],
   "source": [
    "%run $tmp_dir/main.py"
   ]
  },
  {
   "cell_type": "code",
   "execution_count": 6,
   "metadata": {
    "collapsed": false
   },
   "outputs": [
    {
     "data": {
      "text/plain": [
       "[Row(name=u'alice', age=20, drinking_age=False),\n",
       " Row(name=u'ben', age=21, drinking_age=True),\n",
       " Row(name=u'charles', age=22, drinking_age=True),\n",
       " Row(name=u'daniel', age=23, drinking_age=True)]"
      ]
     },
     "execution_count": 6,
     "metadata": {},
     "output_type": "execute_result"
    }
   ],
   "source": [
    "__main__(sc, sqlContext).collect()"
   ]
  },
  {
   "cell_type": "code",
   "execution_count": null,
   "metadata": {
    "collapsed": true
   },
   "outputs": [],
   "source": []
  }
 ],
 "metadata": {
  "anaconda-cloud": {},
  "kernelspec": {
   "display_name": "Python [conda root]",
   "language": "python",
   "name": "conda-root-py"
  },
  "language_info": {
   "codemirror_mode": {
    "name": "ipython",
    "version": 2
   },
   "file_extension": ".py",
   "mimetype": "text/x-python",
   "name": "python",
   "nbconvert_exporter": "python",
   "pygments_lexer": "ipython2",
   "version": "2.7.12"
  }
 },
 "nbformat": 4,
 "nbformat_minor": 1
}
